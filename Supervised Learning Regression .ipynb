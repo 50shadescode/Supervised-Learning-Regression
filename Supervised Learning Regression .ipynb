{
 "cells": [
  {
   "cell_type": "markdown",
   "id": "4cc8b0dc-9ab3-4a2b-bfa5-4a178932c123",
   "metadata": {},
   "source": [
    "1.The first step involves importing all the required libraries "
   ]
  },
  {
   "cell_type": "code",
   "execution_count": 1,
   "id": "6ba5b37b-750b-43f6-89c0-713b141857d3",
   "metadata": {},
   "outputs": [
    {
     "name": "stderr",
     "output_type": "stream",
     "text": [
      "C:\\Users\\cex\\AppData\\Local\\Programs\\Python\\Python312\\Lib\\site-packages\\tqdm\\auto.py:21: TqdmWarning: IProgress not found. Please update jupyter and ipywidgets. See https://ipywidgets.readthedocs.io/en/stable/user_install.html\n",
      "  from .autonotebook import tqdm as notebook_tqdm\n",
      "C:\\Users\\cex\\AppData\\Local\\Temp\\ipykernel_17492\\268609360.py:10: DeprecationWarning: `import pandas_profiling` is going to be deprecated by April 1st. Please use `import ydata_profiling` instead.\n",
      "  from pandas_profiling import ProfileReport\n"
     ]
    }
   ],
   "source": [
    "# Data Manipulation & Exploration\n",
    "import pandas as pd\n",
    "import numpy as np\n",
    "\n",
    "# Data Visualization\n",
    "import matplotlib.pyplot as plt\n",
    "import seaborn as sns\n",
    "\n",
    "# Data Profiling\n",
    "from pandas_profiling import ProfileReport\n",
    "\n",
    "# Handling Missing Data & Encoding\n",
    "from sklearn.impute import SimpleImputer\n",
    "from sklearn.preprocessing import LabelEncoder, StandardScaler\n",
    "\n",
    "# Splitting Dataset\n",
    "from sklearn.model_selection import train_test_split\n",
    "\n",
    "# Machine Learning Models\n",
    "from sklearn.linear_model import LinearRegression, Ridge, Lasso\n",
    "from sklearn.ensemble import RandomForestRegressor\n",
    "from sklearn.svm import SVR\n",
    "\n",
    "# Model Evaluation\n",
    "from sklearn.metrics import mean_absolute_error, mean_squared_error, r2_score\n",
    "\n",
    "# Warnings Handling\n",
    "import warnings\n",
    "warnings.filterwarnings(\"ignore\")\n"
   ]
  },
  {
   "cell_type": "markdown",
   "id": "4f40fe07-3bd0-4310-8dd2-fc782dd403b7",
   "metadata": {},
   "source": [
    "Explanation of Libraries\n",
    "\n",
    "    pandas, numpy: For data manipulation.\n",
    "    matplotlib.pyplot, seaborn: For visualizing data distributions and trends.\n",
    "    pandas_profiling: For generating automated dataset reports.\n",
    "    SimpleImputer: For handling missing values.\n",
    "    LabelEncoder, StandardScaler: For encoding categorical features and scaling numerical data.\n",
    "    train_test_split: For splitting data into training and testing sets.\n",
    "    LinearRegression, Ridge, Lasso, RandomForestRegressor, SVR: Various ML regression models.\n",
    "    mean_absolute_error, mean_squared_error, r2_score: Metrics to evaluate model performance.\n",
    "    warnings.filterwarnings(\"ignore\"): To suppress unnecessary warnings."
   ]
  },
  {
   "cell_type": "markdown",
   "id": "42352a22-d495-4a7f-8cdf-261e511360e3",
   "metadata": {},
   "source": [
    "STEP 1: This involves loading the data set and exploring it "
   ]
  },
  {
   "cell_type": "code",
   "execution_count": 2,
   "id": "f5a8dbc0-8096-432b-877e-cf0b4eafb21c",
   "metadata": {},
   "outputs": [
    {
     "name": "stdout",
     "output_type": "stream",
     "text": [
      "<class 'pandas.core.frame.DataFrame'>\n",
      "RangeIndex: 92629 entries, 0 to 92628\n",
      "Data columns (total 6 columns):\n",
      " #   Column   Non-Null Count  Dtype  \n",
      "---  ------   --------------  -----  \n",
      " 0   Time     92629 non-null  object \n",
      " 1   BS       92629 non-null  object \n",
      " 2   Energy   92629 non-null  float64\n",
      " 3   load     92629 non-null  float64\n",
      " 4   ESMODE   92629 non-null  float64\n",
      " 5   TXpower  92629 non-null  float64\n",
      "dtypes: float64(4), object(2)\n",
      "memory usage: 4.2+ MB\n",
      "None\n"
     ]
    }
   ],
   "source": [
    "df = pd.read_csv(r\"C:\\Users\\cex\\Desktop\\Data sets\\5G_energy_consumption.csv\")\n",
    "df.head() # Displays the first 5 rows of data set \n",
    "print(df.info()) # displays the info such as column names, data types and missing values "
   ]
  },
  {
   "cell_type": "markdown",
   "id": "79c82fb4-0323-4bc9-a36f-f2b2e6e3e33f",
   "metadata": {},
   "source": [
    "Inference from the above \n",
    "The data set has no missing values. It has objects and floats as data types "
   ]
  },
  {
   "cell_type": "code",
   "execution_count": 3,
   "id": "0a3c376c-1b49-4218-8614-13727c56131b",
   "metadata": {},
   "outputs": [
    {
     "name": "stderr",
     "output_type": "stream",
     "text": [
      "\n",
      "\n",
      "\n",
      "\n",
      "xport report to file: 100%|██████████| 1/1 [00:00<00:00, 39.41it/s]t]ted]                "
     ]
    }
   ],
   "source": [
    "# Generate the profiling report\n",
    "profile = ProfileReport(df, explorative=True)\n",
    "\n",
    "# Save the report as an HTML file\n",
    "profile.to_file(\"5G_energy_consumption_report.html\")\n"
   ]
  },
  {
   "cell_type": "markdown",
   "id": "3241f301-ba00-4502-b53e-a549760898cc",
   "metadata": {},
   "source": [
    "Based on the report from profiling \n",
    "The dataset does not contain any missing values, ensuring data completeness.\n",
    "While duplicate rows were not explicitly mentioned in the report, it is still essential to check for them to maintain data integrity. \n",
    "The target variable, Energy, shows a strong correlation with Load and TXpower, indicating the need to assess multicollinearity before training the model.\n",
    "Regarding potential outliers, the distribution of Energy Consumption (ranging from 0.75 to 100), Load (0 to 0.99), and TXpower (5.38 to 8.37) appears reasonable, with no extreme deviations. However, the ESMODE feature consists of 94.4% zeros, which warrants further investigation to determine its significance in the model.\n",
    "For categorical features, the BS (Base Station) column has 923 unique values, requiring encoding before model training. Additionally, the Time (Timestamp) column should be transformed into numerical features, such as hour and day, to capture temporal patterns effectively."
   ]
  },
  {
   "cell_type": "code",
   "execution_count": 4,
   "id": "6c809cda-4225-428b-a3de-d42a0a6469a5",
   "metadata": {},
   "outputs": [
    {
     "name": "stdout",
     "output_type": "stream",
     "text": [
      "0\n"
     ]
    }
   ],
   "source": [
    "print(df.duplicated().sum()) # shows if their is any duplicated rows in data set"
   ]
  },
  {
   "cell_type": "markdown",
   "id": "ba796286-209f-42d0-a68e-7e416e70005d",
   "metadata": {},
   "source": [
    "There are no duplicate rows in the dataset. Next, let's process the \"Time\" feature by extracting meaningful components such as hour and day"
   ]
  },
  {
   "cell_type": "code",
   "execution_count": 5,
   "id": "e2efecb2-afe0-4563-882a-96a41ca2112e",
   "metadata": {},
   "outputs": [
    {
     "data": {
      "text/html": [
       "<div>\n",
       "<style scoped>\n",
       "    .dataframe tbody tr th:only-of-type {\n",
       "        vertical-align: middle;\n",
       "    }\n",
       "\n",
       "    .dataframe tbody tr th {\n",
       "        vertical-align: top;\n",
       "    }\n",
       "\n",
       "    .dataframe thead th {\n",
       "        text-align: right;\n",
       "    }\n",
       "</style>\n",
       "<table border=\"1\" class=\"dataframe\">\n",
       "  <thead>\n",
       "    <tr style=\"text-align: right;\">\n",
       "      <th></th>\n",
       "      <th>BS</th>\n",
       "      <th>Energy</th>\n",
       "      <th>load</th>\n",
       "      <th>ESMODE</th>\n",
       "      <th>TXpower</th>\n",
       "      <th>Hour</th>\n",
       "      <th>Day</th>\n",
       "    </tr>\n",
       "  </thead>\n",
       "  <tbody>\n",
       "    <tr>\n",
       "      <th>0</th>\n",
       "      <td>B_0</td>\n",
       "      <td>64.275037</td>\n",
       "      <td>0.487936</td>\n",
       "      <td>0.0</td>\n",
       "      <td>7.101719</td>\n",
       "      <td>1</td>\n",
       "      <td>6</td>\n",
       "    </tr>\n",
       "    <tr>\n",
       "      <th>1</th>\n",
       "      <td>B_0</td>\n",
       "      <td>55.904335</td>\n",
       "      <td>0.344468</td>\n",
       "      <td>0.0</td>\n",
       "      <td>7.101719</td>\n",
       "      <td>2</td>\n",
       "      <td>6</td>\n",
       "    </tr>\n",
       "    <tr>\n",
       "      <th>2</th>\n",
       "      <td>B_0</td>\n",
       "      <td>57.698057</td>\n",
       "      <td>0.193766</td>\n",
       "      <td>0.0</td>\n",
       "      <td>7.101719</td>\n",
       "      <td>3</td>\n",
       "      <td>6</td>\n",
       "    </tr>\n",
       "    <tr>\n",
       "      <th>3</th>\n",
       "      <td>B_0</td>\n",
       "      <td>55.156951</td>\n",
       "      <td>0.222383</td>\n",
       "      <td>0.0</td>\n",
       "      <td>7.101719</td>\n",
       "      <td>4</td>\n",
       "      <td>6</td>\n",
       "    </tr>\n",
       "    <tr>\n",
       "      <th>4</th>\n",
       "      <td>B_0</td>\n",
       "      <td>56.053812</td>\n",
       "      <td>0.175436</td>\n",
       "      <td>0.0</td>\n",
       "      <td>7.101719</td>\n",
       "      <td>5</td>\n",
       "      <td>6</td>\n",
       "    </tr>\n",
       "  </tbody>\n",
       "</table>\n",
       "</div>"
      ],
      "text/plain": [
       "    BS     Energy      load  ESMODE   TXpower  Hour  Day\n",
       "0  B_0  64.275037  0.487936     0.0  7.101719     1    6\n",
       "1  B_0  55.904335  0.344468     0.0  7.101719     2    6\n",
       "2  B_0  57.698057  0.193766     0.0  7.101719     3    6\n",
       "3  B_0  55.156951  0.222383     0.0  7.101719     4    6\n",
       "4  B_0  56.053812  0.175436     0.0  7.101719     5    6"
      ]
     },
     "execution_count": 5,
     "metadata": {},
     "output_type": "execute_result"
    }
   ],
   "source": [
    "# Convert 'Time' to datetime format if not already\n",
    "df['Time'] = pd.to_datetime(df['Time'], format='%Y%m%d %H%M%S')\n",
    "\n",
    "# Extract useful features: hour and day of the week\n",
    "df['Hour'] = df['Time'].dt.hour\n",
    "df['Day'] = df['Time'].dt.dayofweek\n",
    "\n",
    "# Drop the original 'Time' column since it's no longer needed\n",
    "df.drop(columns=['Time'], inplace=True)\n",
    "\n",
    "# Display the first few rows to confirm changes\n",
    "df.head()\n"
   ]
  },
  {
   "cell_type": "markdown",
   "id": "1d1c73a9-d89d-473c-92a1-4c305fc80251",
   "metadata": {},
   "source": [
    "The \"Time\" feature has been successfully converted into two meaningful components:\n",
    "Hour: Represents the hour of the day.\n",
    "Day: Represents the day of the week (0 = Monday, 6 = Sunday)."
   ]
  },
  {
   "cell_type": "code",
   "execution_count": 6,
   "id": "b7eb6524-2b99-466d-8833-4d3134892d6e",
   "metadata": {},
   "outputs": [
    {
     "data": {
      "text/html": [
       "<div>\n",
       "<style scoped>\n",
       "    .dataframe tbody tr th:only-of-type {\n",
       "        vertical-align: middle;\n",
       "    }\n",
       "\n",
       "    .dataframe tbody tr th {\n",
       "        vertical-align: top;\n",
       "    }\n",
       "\n",
       "    .dataframe thead th {\n",
       "        text-align: right;\n",
       "    }\n",
       "</style>\n",
       "<table border=\"1\" class=\"dataframe\">\n",
       "  <thead>\n",
       "    <tr style=\"text-align: right;\">\n",
       "      <th></th>\n",
       "      <th>BS</th>\n",
       "      <th>Energy</th>\n",
       "      <th>load</th>\n",
       "      <th>ESMODE</th>\n",
       "      <th>TXpower</th>\n",
       "      <th>Hour</th>\n",
       "      <th>Day</th>\n",
       "    </tr>\n",
       "  </thead>\n",
       "  <tbody>\n",
       "    <tr>\n",
       "      <th>0</th>\n",
       "      <td>0</td>\n",
       "      <td>64.275037</td>\n",
       "      <td>0.487936</td>\n",
       "      <td>0.0</td>\n",
       "      <td>7.101719</td>\n",
       "      <td>1</td>\n",
       "      <td>6</td>\n",
       "    </tr>\n",
       "    <tr>\n",
       "      <th>1</th>\n",
       "      <td>0</td>\n",
       "      <td>55.904335</td>\n",
       "      <td>0.344468</td>\n",
       "      <td>0.0</td>\n",
       "      <td>7.101719</td>\n",
       "      <td>2</td>\n",
       "      <td>6</td>\n",
       "    </tr>\n",
       "    <tr>\n",
       "      <th>2</th>\n",
       "      <td>0</td>\n",
       "      <td>57.698057</td>\n",
       "      <td>0.193766</td>\n",
       "      <td>0.0</td>\n",
       "      <td>7.101719</td>\n",
       "      <td>3</td>\n",
       "      <td>6</td>\n",
       "    </tr>\n",
       "    <tr>\n",
       "      <th>3</th>\n",
       "      <td>0</td>\n",
       "      <td>55.156951</td>\n",
       "      <td>0.222383</td>\n",
       "      <td>0.0</td>\n",
       "      <td>7.101719</td>\n",
       "      <td>4</td>\n",
       "      <td>6</td>\n",
       "    </tr>\n",
       "    <tr>\n",
       "      <th>4</th>\n",
       "      <td>0</td>\n",
       "      <td>56.053812</td>\n",
       "      <td>0.175436</td>\n",
       "      <td>0.0</td>\n",
       "      <td>7.101719</td>\n",
       "      <td>5</td>\n",
       "      <td>6</td>\n",
       "    </tr>\n",
       "  </tbody>\n",
       "</table>\n",
       "</div>"
      ],
      "text/plain": [
       "   BS     Energy      load  ESMODE   TXpower  Hour  Day\n",
       "0   0  64.275037  0.487936     0.0  7.101719     1    6\n",
       "1   0  55.904335  0.344468     0.0  7.101719     2    6\n",
       "2   0  57.698057  0.193766     0.0  7.101719     3    6\n",
       "3   0  55.156951  0.222383     0.0  7.101719     4    6\n",
       "4   0  56.053812  0.175436     0.0  7.101719     5    6"
      ]
     },
     "execution_count": 6,
     "metadata": {},
     "output_type": "execute_result"
    }
   ],
   "source": [
    "from sklearn.preprocessing import LabelEncoder\n",
    "\n",
    "# Initialize LabelEncoder\n",
    "le = LabelEncoder()\n",
    "\n",
    "# Encode the 'BS' column\n",
    "df['BS'] = le.fit_transform(df['BS'])\n",
    "\n",
    "# Display the first few rows after encoding\n",
    "df.head()\n"
   ]
  },
  {
   "cell_type": "markdown",
   "id": "e6f2e3c8-f145-49fa-920b-5105cc2a6b41",
   "metadata": {},
   "source": [
    "The \"BS\" (Base Station) column has been successfully encoded using Label Encoding, converting categorical values into numerical labels"
   ]
  },
  {
   "cell_type": "markdown",
   "id": "6b67e708-868f-41cd-bb93-c193c49b32f0",
   "metadata": {},
   "source": [
    "Next we check for multicollinearity among the highly correlated features (Energy, Load, and TXpower) before model training.\n",
    "Let’s compute the correlation matrix"
   ]
  },
  {
   "cell_type": "code",
   "execution_count": 7,
   "id": "0d3d2e8c-0e25-4531-865a-b5eda760d0b2",
   "metadata": {},
   "outputs": [],
   "source": [
    "%matplotlib inline\n"
   ]
  },
  {
   "cell_type": "code",
   "execution_count": 8,
   "id": "2e63396e-56c0-4863-addb-51e7b155973b",
   "metadata": {},
   "outputs": [
    {
     "data": {
      "image/png": "[encoded data removed]",
      "text/plain": [
       "<Figure size 800x600 with 2 Axes>"
      ]
     },
     "metadata": {},
     "output_type": "display_data"
    }
   ],
   "source": [
    "import seaborn as sns\n",
    "import matplotlib.pyplot as plt\n",
    "\n",
    "# Compute the correlation matrix\n",
    "corr_matrix = df.corr()\n",
    "\n",
    "# Plot the heatmap\n",
    "plt.figure(figsize=(8, 6))\n",
    "sns.heatmap(corr_matrix, annot=True, cmap=\"coolwarm\", fmt=\".2f\", linewidths=0.5)\n",
    "plt.title(\"Feature Correlation Heatmap\")\n",
    "plt.show()"
   ]
  },
  {
   "cell_type": "markdown",
   "id": "06645e53-99b1-424c-b354-3647276d928c",
   "metadata": {},
   "source": [
    "The heatmap shows the correlation between features. Key observations:\n",
    "Energy (Target Variable) is highly correlated with Load and TXpower.\n",
    "We need to check for multicollinearity using the Variance Inflation Factor (VIF) before proceeding with model training. Let’s calculate the VIF next."
   ]
  },
  {
   "cell_type": "code",
   "execution_count": 9,
   "id": "b8e3ed47-d58c-4af0-96fd-d84082d0db21",
   "metadata": {},
   "outputs": [
    {
     "data": {
      "text/html": [
       "<div>\n",
       "<style scoped>\n",
       "    .dataframe tbody tr th:only-of-type {\n",
       "        vertical-align: middle;\n",
       "    }\n",
       "\n",
       "    .dataframe tbody tr th {\n",
       "        vertical-align: top;\n",
       "    }\n",
       "\n",
       "    .dataframe thead th {\n",
       "        text-align: right;\n",
       "    }\n",
       "</style>\n",
       "<table border=\"1\" class=\"dataframe\">\n",
       "  <thead>\n",
       "    <tr style=\"text-align: right;\">\n",
       "      <th></th>\n",
       "      <th>Feature</th>\n",
       "      <th>VIF</th>\n",
       "    </tr>\n",
       "  </thead>\n",
       "  <tbody>\n",
       "    <tr>\n",
       "      <th>0</th>\n",
       "      <td>load</td>\n",
       "      <td>2.412483</td>\n",
       "    </tr>\n",
       "    <tr>\n",
       "      <th>1</th>\n",
       "      <td>TXpower</td>\n",
       "      <td>6.122098</td>\n",
       "    </tr>\n",
       "    <tr>\n",
       "      <th>2</th>\n",
       "      <td>ESMODE</td>\n",
       "      <td>1.135552</td>\n",
       "    </tr>\n",
       "    <tr>\n",
       "      <th>3</th>\n",
       "      <td>Hour</td>\n",
       "      <td>4.362124</td>\n",
       "    </tr>\n",
       "    <tr>\n",
       "      <th>4</th>\n",
       "      <td>Day</td>\n",
       "      <td>2.649338</td>\n",
       "    </tr>\n",
       "  </tbody>\n",
       "</table>\n",
       "</div>"
      ],
      "text/plain": [
       "   Feature       VIF\n",
       "0     load  2.412483\n",
       "1  TXpower  6.122098\n",
       "2   ESMODE  1.135552\n",
       "3     Hour  4.362124\n",
       "4      Day  2.649338"
      ]
     },
     "execution_count": 9,
     "metadata": {},
     "output_type": "execute_result"
    }
   ],
   "source": [
    "from statsmodels.stats.outliers_influence import variance_inflation_factor\n",
    "# Update feature names with correct casing\n",
    "features = ['load', 'TXpower', 'ESMODE', 'Hour', 'Day']\n",
    "vif_data = pd.DataFrame()\n",
    "vif_data['Feature'] = features\n",
    "vif_data['VIF'] = [variance_inflation_factor(df[features].values, i) for i in range(len(features))]\n",
    "\n",
    "# Display VIF values\n",
    "vif_data\n"
   ]
  },
  {
   "cell_type": "markdown",
   "id": "f8b3ddd1-383e-4f9f-bde5-4533b744ed26",
   "metadata": {},
   "source": [
    "Here are the Variance Inflation Factor (VIF) values for our features:\n",
    "\n",
    "    TXpower (6.12): Moderately high multicollinearity. We may consider feature selection or transformation.\n",
    "    Hour (4.36): Some correlation but still acceptable.\n",
    "    Load (2.41), Day (2.65), and ESMODE (1.14): No significant multicollinearity issues.\n",
    "\n",
    "Since TXpower has the highest VIF, we should analyze its impact on model performance. We can either remove it or apply dimensionality reduction techniques like PCA if needed. One logical step is to check on handling ESMODE, which has 94.4% zeros. \n",
    "We shall proceed by checking the correlation between ESMODE and Energy first.\n",
    "If it's weak, we can test the model with and without it."
   ]
  },
  {
   "cell_type": "code",
   "execution_count": 10,
   "id": "8787b229-827f-484b-b858-af5af3b793e5",
   "metadata": {},
   "outputs": [
    {
     "name": "stdout",
     "output_type": "stream",
     "text": [
      "-0.27178301266410715\n"
     ]
    }
   ],
   "source": [
    "# Checking the correlation between ESMODE and Energy\n",
    "esmode_corr = df[\"ESMODE\"].corr(df[\"Energy\"])\n",
    "print(esmode_corr)"
   ]
  },
  {
   "cell_type": "markdown",
   "id": "48ce1c06-b15b-4492-b3cb-e51328bdf1bb",
   "metadata": {},
   "source": [
    "The correlation between ESMODE and Energy is approximately -0.27, indicating a weak negative relationship.\n",
    "This suggests that while ESMODE might have some influence, it is not strongly predictive of Energy consumption.\n"
   ]
  },
  {
   "cell_type": "markdown",
   "id": "17245d1b-1f86-4351-823a-15d767fb64b6",
   "metadata": {},
   "source": [
    "Based on our correlation analysis and dataset characteristics, the best initial choice is Multiple Linear Regression (MLR).\n",
    "Why Multiple Linear Regression?\n",
    "\n",
    "✅ The dataset consists of multiple independent variables impacting the target variable (Energy).\n",
    "✅ There is a strong linear correlation between Energy, Load, and TXpower, making linear regression a suitable baseline.\n",
    "✅ It is easy to interpret and provides a good benchmark for comparison with more complex models.\n",
    "Next Steps:\n",
    "\n",
    "    Train an MLR model using the features (with ESMODE included).\n",
    "    Evaluate the performance using MAE, MSE, RMSE, and R².\n",
    "    Remove ESMODE and retrain the model.\n",
    "    Compare results to determine if ESMODE is beneficial."
   ]
  },
  {
   "cell_type": "markdown",
   "id": "15cb12ff-e06a-459e-b8b4-f95c2176ea58",
   "metadata": {},
   "source": [
    "\n",
    "Steps Covered\n",
    "\n",
    "Define features and target variable\n",
    "Split data into training & test sets\n",
    "Train MLR model\n",
    "Evaluate model performance using MAE, MSE, RMSE, and R²"
   ]
  },
  {
   "cell_type": "code",
   "execution_count": 11,
   "id": "dfded5e8-f7af-463e-97cd-64166c615330",
   "metadata": {},
   "outputs": [
    {
     "name": "stdout",
     "output_type": "stream",
     "text": [
      "Mean Absolute Error (MAE): 6.90\n",
      "Mean Squared Error (MSE): 85.91\n",
      "Root Mean Squared Error (RMSE): 9.27\n",
      "R² Score: 0.5474\n"
     ]
    }
   ],
   "source": [
    "from sklearn.model_selection import train_test_split\n",
    "from sklearn.linear_model import LinearRegression\n",
    "from sklearn.metrics import mean_absolute_error, mean_squared_error, r2_score\n",
    "import numpy as np\n",
    "\n",
    "# Define features (independent variables) and target variable (Energy)\n",
    "X = df[['load', 'TXpower', 'ESMODE']]  # Keeping ESMODE for now\n",
    "y = df['Energy']\n",
    "\n",
    "# Split into training (80%) and test (20%) sets\n",
    "X_train, X_test, y_train, y_test = train_test_split(X, y, test_size=0.2, random_state=42)\n",
    "\n",
    "# Train the model\n",
    "mlr_model = LinearRegression()\n",
    "mlr_model.fit(X_train, y_train)\n",
    "\n",
    "# Predictions\n",
    "y_pred = mlr_model.predict(X_test)\n",
    "\n",
    "# Model Evaluation\n",
    "mae = mean_absolute_error(y_test, y_pred)\n",
    "mse = mean_squared_error(y_test, y_pred)\n",
    "rmse = np.sqrt(mse)\n",
    "r2 = r2_score(y_test, y_pred)\n",
    "\n",
    "# Print results\n",
    "print(f\"Mean Absolute Error (MAE): {mae:.2f}\")\n",
    "print(f\"Mean Squared Error (MSE): {mse:.2f}\")\n",
    "print(f\"Root Mean Squared Error (RMSE): {rmse:.2f}\")\n",
    "print(f\"R² Score: {r2:.4f}\")\n"
   ]
  },
  {
   "cell_type": "markdown",
   "id": "c26ca233-1e22-4e54-a494-f360c3ffaa84",
   "metadata": {},
   "source": [
    "Interpretation of Model Performance\n",
    "\n",
    "    MAE (6.90): On average, our model's predictions are off by 6.90 energy units.\n",
    "    MSE (85.91): Squared error magnifies large deviations, meaning some predictions may have large errors.\n",
    "    RMSE (9.27): Since this is in the same unit as our target, it suggests a typical prediction error of 9.27 energy units.\n",
    "    R² Score (0.5474): The model explains ~54.74% of the variance in energy consumption."
   ]
  },
  {
   "cell_type": "code",
   "execution_count": 12,
   "id": "5a0831d6-e467-496c-a1a0-994dca7ea527",
   "metadata": {},
   "outputs": [
    {
     "name": "stdout",
     "output_type": "stream",
     "text": [
      "Mean Absolute Error (MAE): 7.24\n",
      "Mean Squared Error (MSE): 91.93\n",
      "Root Mean Squared Error (RMSE): 9.59\n",
      "R² Score: 0.5157\n"
     ]
    }
   ],
   "source": [
    "from sklearn.model_selection import train_test_split\n",
    "from sklearn.linear_model import LinearRegression\n",
    "from sklearn.metrics import mean_absolute_error, mean_squared_error, r2_score\n",
    "import numpy as np\n",
    "\n",
    "# Drop ESMODE column\n",
    "df_no_esmode = df.drop(columns=['ESMODE'])\n",
    "\n",
    "# Define features (X) and target variable (y)\n",
    "X = df_no_esmode.drop(columns=['Energy'])  # Excluding the target variable\n",
    "y = df_no_esmode['Energy']\n",
    "\n",
    "# Train-test split\n",
    "X_train, X_test, y_train, y_test = train_test_split(X, y, test_size=0.2, random_state=42)\n",
    "\n",
    "# Initialize and train the model\n",
    "model = LinearRegression()\n",
    "model.fit(X_train, y_train)\n",
    "\n",
    "# Make predictions\n",
    "y_pred = model.predict(X_test)\n",
    "\n",
    "# Evaluate performance\n",
    "mae = mean_absolute_error(y_test, y_pred)\n",
    "mse = mean_squared_error(y_test, y_pred)\n",
    "rmse = np.sqrt(mse)\n",
    "r2 = r2_score(y_test, y_pred)\n",
    "\n",
    "# Print results\n",
    "print(f\"Mean Absolute Error (MAE): {mae:.2f}\")\n",
    "print(f\"Mean Squared Error (MSE): {mse:.2f}\")\n",
    "print(f\"Root Mean Squared Error (RMSE): {rmse:.2f}\")\n",
    "print(f\"R² Score: {r2:.4f}\")\n"
   ]
  },
  {
   "cell_type": "markdown",
   "id": "89559a6c-0f14-40e9-ae13-4a434d9272c9",
   "metadata": {},
   "source": [
    "Since removing ESMODE resulted in a drop in R² score (from 0.5474 to 0.5157), it means that ESMODE contributes to the model's predictive power.\n",
    "Insights:\n",
    "\n",
    "    The model performs worse without ESMODE.\n",
    "    Even though 94.4% of ESMODE values are zero, the remaining 5.6% contains useful signal that helps predict energy consumption.\n",
    "    It may be better to keep ESMODE in the dataset rather than dropping it."
   ]
  },
  {
   "cell_type": "markdown",
   "id": "d52f866e-478e-4719-807b-cddc2c9ddac2",
   "metadata": {},
   "source": [
    "Its best to have some feature engineering elements "
   ]
  },
  {
   "cell_type": "code",
   "execution_count": 13,
   "id": "392af65a-bfbf-4691-9305-0e4c90e9024c",
   "metadata": {},
   "outputs": [
    {
     "data": {
      "text/plain": [
       "(4.472105130778479,\n",
       " 37.239981644719734,\n",
       " np.float64(6.102457017031725),\n",
       " 0.8038000213551447)"
      ]
     },
     "execution_count": 13,
     "metadata": {},
     "output_type": "execute_result"
    }
   ],
   "source": [
    "import pandas as pd\n",
    "import numpy as np\n",
    "from sklearn.model_selection import train_test_split\n",
    "from sklearn.preprocessing import StandardScaler\n",
    "from sklearn.ensemble import RandomForestRegressor\n",
    "from sklearn.metrics import mean_absolute_error, mean_squared_error, r2_score\n",
    "\n",
    "# Load dataset\n",
    "df = pd.read_csv(r\"C:\\Users\\cex\\Desktop\\Data sets\\5G_energy_consumption.csv\")\n",
    "\n",
    "# Convert ESMODE into a binary feature\n",
    "df[\"ESMODE_Binary\"] = np.where(df[\"ESMODE\"] > 0, 1, 0)\n",
    "\n",
    "# Define features and target\n",
    "features = [\"load\", \"TXpower\", \"ESMODE_Binary\"]\n",
    "target = \"Energy\"\n",
    "\n",
    "X = df[features]\n",
    "y = df[target]\n",
    "\n",
    "# Split into training and test sets (80% train, 20% test)\n",
    "X_train, X_test, y_train, y_test = train_test_split(X, y, test_size=0.2, random_state=42)\n",
    "\n",
    "# Scale features\n",
    "scaler = StandardScaler()\n",
    "X_train_scaled = scaler.fit_transform(X_train)\n",
    "X_test_scaled = scaler.transform(X_test)\n",
    "\n",
    "# Train the model\n",
    "model = RandomForestRegressor(n_estimators=100, random_state=42)\n",
    "model.fit(X_train_scaled, y_train)\n",
    "\n",
    "# Predictions\n",
    "y_pred = model.predict(X_test_scaled)\n",
    "\n",
    "# Evaluate performance\n",
    "mae = mean_absolute_error(y_test, y_pred)\n",
    "mse = mean_squared_error(y_test, y_pred)\n",
    "rmse = np.sqrt(mse)\n",
    "r2 = r2_score(y_test, y_pred)\n",
    "\n",
    "(mae, mse, rmse, r2)\n"
   ]
  },
  {
   "cell_type": "markdown",
   "id": "1fa9f200-b5e9-4f60-a56e-863613b39f60",
   "metadata": {},
   "source": [
    "Interpretation\n",
    "\n",
    "✅ Improvement: Compared to previous models, this model performs significantly better.\n",
    "✅ Lower Error: The RMSE (6.10) and MAE (4.47) are much lower than before, meaning better predictions.\n",
    "✅ Good Fit: The R² score (0.80) suggests that the model explains 80.38% of the variance in energy consumption.\n",
    "Final Decision\n",
    "This Random Forest model is the best choice so far.\n",
    "If you want further improvements, we can explore hyperparameter tuning, feature selection, or ensemble techniques."
   ]
  },
  {
   "cell_type": "markdown",
   "id": "13ad2f67-f188-4cf8-a840-245624b85ba2",
   "metadata": {},
   "source": [
    "Refining the model can push performance even further.\n",
    "1️⃣ Hyperparameter Tuning\n",
    "Instead of using default settings, we’ll optimize the hyperparameters of the Random Forest model using GridSearchCV or RandomizedSearchCV. Key parameters to tune:\n",
    "✅ Number of trees (n_estimators)\n",
    "✅ Maximum depth of trees (max_depth)\n",
    "✅ Minimum samples per leaf (min_samples_leaf)\n",
    "✅ Minimum samples per split (min_samples_split)\n",
    "2️⃣ Feature Engineering\n",
    "We can try:\n",
    "✅ Creating interaction terms between highly correlated features.\n",
    "✅ Removing redundant features that might be adding noise.\n",
    "3️⃣ Handling ESMODE\n",
    "\n",
    "Since 94.4% of its values are zero, we should:\n",
    "✅ Try training the model with and without it to see its impact.\n",
    "4️⃣ Advanced Techniques\n",
    "\n",
    "✅ Using Gradient Boosting (XGBoost or LightGBM) to see if boosting improves results.\n",
    "✅ Applying Principal Component Analysis (PCA) to reduce dimensionality."
   ]
  },
  {
   "cell_type": "code",
   "execution_count": 14,
   "id": "9ff7a4b7-b380-46e1-b220-e03f7c8865af",
   "metadata": {},
   "outputs": [
    {
     "name": "stdout",
     "output_type": "stream",
     "text": [
      "Fitting 5 folds for each of 20 candidates, totalling 100 fits\n"
     ]
    },
    {
     "data": {
      "text/plain": [
       "{'n_estimators': 300,\n",
       " 'min_samples_split': 10,\n",
       " 'min_samples_leaf': 1,\n",
       " 'max_features': 'sqrt',\n",
       " 'max_depth': 10}"
      ]
     },
     "execution_count": 14,
     "metadata": {},
     "output_type": "execute_result"
    }
   ],
   "source": [
    "from sklearn.ensemble import RandomForestRegressor\n",
    "from sklearn.model_selection import RandomizedSearchCV\n",
    "import numpy as np\n",
    "\n",
    "# Define the parameter grid for RandomizedSearchCV\n",
    "param_grid = {\n",
    "    'n_estimators': [50, 100, 200, 300, 500],\n",
    "    'max_depth': [None, 10, 20, 30, 50],\n",
    "    'min_samples_split': [2, 5, 10],\n",
    "    'min_samples_leaf': [1, 2, 4],\n",
    "    'max_features': ['auto', 'sqrt', 'log2']\n",
    "}\n",
    "\n",
    "# Initialize the Random Forest model\n",
    "rf = RandomForestRegressor(random_state=42)\n",
    "\n",
    "# Set up RandomizedSearchCV\n",
    "random_search = RandomizedSearchCV(\n",
    "    estimator=rf, \n",
    "    param_distributions=param_grid,\n",
    "    n_iter=20,  # Number of different combinations to test\n",
    "    cv=5,       # 5-fold cross-validation\n",
    "    verbose=1,  \n",
    "    n_jobs=-1,  # Use all available processors\n",
    "    scoring='r2'\n",
    ")\n",
    "\n",
    "# Fit RandomizedSearchCV on the dataset\n",
    "random_search.fit(X_train, y_train)\n",
    "\n",
    "# Get the best parameters\n",
    "best_params = random_search.best_params_\n",
    "best_params\n"
   ]
  },
  {
   "cell_type": "code",
   "execution_count": null,
   "id": "945102e1-fe39-4aa0-b0fd-fb2859325ac7",
   "metadata": {},
   "outputs": [],
   "source": [
    "Basically, The best hyperparameters found after tuning are\n",
    "    'n_estimators': 300,       # Uses 300 trees in the forest (more trees improve stability)\n",
    "    'min_samples_split': 10,   # Minimum 10 samples needed to split a node (prevents overfitting)\n",
    "    'min_samples_leaf': 1,     # A leaf node must have at least 1 sample (higher values prevent overfitting)\n",
    "    'max_features': 'sqrt',    # Uses the square root of total features at each split (reduces correlation)\n",
    "    'max_depth': 10            # Limits the tree depth to 10 (prevents overfitting)\n"
   ]
  },
  {
   "cell_type": "code",
   "execution_count": 17,
   "id": "0eeb1f79-3494-4644-a025-570770847052",
   "metadata": {},
   "outputs": [
    {
     "name": "stdout",
     "output_type": "stream",
     "text": [
      "Mean Absolute Error (MAE): 3.87\n",
      "Mean Squared Error (MSE): 27.64\n",
      "Root Mean Squared Error (RMSE): 5.26\n",
      "R² Score: 0.8544\n"
     ]
    }
   ],
   "source": [
    "best_params = {\n",
    "    'n_estimators': 300,\n",
    "    'min_samples_split': 10,\n",
    "    'min_samples_leaf': 1,\n",
    "    'max_features': 'sqrt',\n",
    "    'max_depth': 10\n",
    "}\n",
    "\n",
    "# Train the Random Forest Regressor with best parameters\n",
    "best_model = RandomForestRegressor(**best_params, random_state=42)\n",
    "best_model.fit(X_train, y_train)\n",
    "\n",
    "# Make predictions\n",
    "y_pred = best_model.predict(X_test)\n",
    "\n",
    "# Evaluate the refined model\n",
    "mae = mean_absolute_error(y_test, y_pred)\n",
    "mse = mean_squared_error(y_test, y_pred)\n",
    "rmse = np.sqrt(mse)\n",
    "r2 = r2_score(y_test, y_pred)\n",
    "\n",
    "print(f\"Mean Absolute Error (MAE): {mae:.2f}\")\n",
    "print(f\"Mean Squared Error (MSE): {mse:.2f}\")\n",
    "print(f\"Root Mean Squared Error (RMSE): {rmse:.2f}\")\n",
    "print(f\"R² Score: {r2:.4f}\")\n"
   ]
  },
  {
   "cell_type": "markdown",
   "id": "8e03e360-68a6-4cd8-9a10-f1a602f3bfde",
   "metadata": {},
   "source": [
    "These results show significant improvement compared to the previous models! 🎯\n",
    "Performance Breakdown:\n",
    "\n",
    "    MAE (3.87) → Lower than before, meaning predictions are more accurate on average.\n",
    "    MSE (27.64) → Reduced error variance, which is a good sign.\n",
    "    RMSE (5.26) → Lower error magnitude compared to previous models.\n",
    "    R² Score (0.8544) → The model explains 85.44% of the variance in energy consumption, showing high predictive power."
   ]
  },
  {
   "cell_type": "markdown",
   "id": "2fb59ad4-4500-483e-b6da-98fd6dc56361",
   "metadata": {},
   "source": [
    "Model Evaluation Interpretation\n",
    "\n",
    "The model's performance was assessed using multiple evaluation metrics. The Mean Absolute Error (MAE) of 3.87 indicates that, on average, the model’s predictions deviate by approximately 3.87 units from the actual energy consumption values, suggesting relatively small errors. The Mean Squared Error (MSE) of 27.64 reflects the average squared differences between predicted and actual values, where lower values indicate fewer large deviations. Since MSE is in squared units, the Root Mean Squared Error (RMSE) of 5.26 provides a more interpretable measure, showing that the model’s predictions, on average, deviate by 5.26 units from the actual values.\n",
    "\n",
    "The R² score of 0.8544 indicates that the model explains approximately 85.44% of the variance in energy consumption, demonstrating strong predictive power. A value closer to 1 suggests that the model effectively captures patterns in the data, while a lower R² would indicate poor explanatory ability.\n",
    "\n",
    "Overall, the model is performing well, as reflected by its relatively low error values and high R² score. To further improve performance, potential next steps include refining feature engineering, conducting additional hyperparameter tuning, or exploring ensemble modeling techniques."
   ]
  },
  {
   "cell_type": "code",
   "execution_count": 18,
   "id": "5b949308-6767-4e17-9ab3-1f90455f9dbb",
   "metadata": {},
   "outputs": [
    {
     "name": "stdout",
     "output_type": "stream",
     "text": [
      "Model saved successfully!\n"
     ]
    }
   ],
   "source": [
    "import joblib\n",
    "\n",
    "# Save the trained model\n",
    "joblib.dump(best_model, \"random_forest_model.pkl\")\n",
    "\n",
    "print(\"Model saved successfully!\")\n"
   ]
  },
  {
   "cell_type": "markdown",
   "id": "68a22e29-7fc0-4c2e-a6a5-96df126a2e28",
   "metadata": {},
   "source": [
    "Loading the saved model "
   ]
  },
  {
   "cell_type": "code",
   "execution_count": 19,
   "id": "438b412a-4f04-4655-b22b-d2ce76bed625",
   "metadata": {},
   "outputs": [
    {
     "name": "stdout",
     "output_type": "stream",
     "text": [
      "Model loaded and ready for use!\n"
     ]
    }
   ],
   "source": [
    "# Load the saved model\n",
    "loaded_model = joblib.load(\"random_forest_model.pkl\")\n",
    "\n",
    "# Make a prediction using the loaded model\n",
    "y_pred_loaded = loaded_model.predict(X_test)\n",
    "\n",
    "print(\"Model loaded and ready for use!\")\n"
   ]
  },
  {
   "cell_type": "code",
   "execution_count": null,
   "id": "1e39956a-6aaf-4007-bc6c-3741e3e5f085",
   "metadata": {},
   "outputs": [],
   "source": []
  }
 ],
 "metadata": {
  "kernelspec": {
   "display_name": "Python 3 (ipykernel)",
   "language": "python",
   "name": "python3"
  },
  "language_info": {
   "codemirror_mode": {
    "name": "ipython",
    "version": 3
   },
   "file_extension": ".py",
   "mimetype": "text/x-python",
   "name": "python",
   "nbconvert_exporter": "python",
   "pygments_lexer": "ipython3",
   "version": "3.12.6"
  }
 },
 "nbformat": 4,
 "nbformat_minor": 5
}
